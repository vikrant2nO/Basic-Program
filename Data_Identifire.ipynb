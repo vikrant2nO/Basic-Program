{
 "cells": [
  {
   "cell_type": "code",
   "execution_count": 45,
   "id": "e9d934fb-945f-42c8-93b0-23ec7db37183",
   "metadata": {},
   "outputs": [
    {
     "name": "stdin",
     "output_type": "stream",
     "text": [
      "Please enter a number: 2\n"
     ]
    },
    {
     "name": "stdout",
     "output_type": "stream",
     "text": [
      "<class 'int'>\n"
     ]
    }
   ],
   "source": [
    "# Get number input from the user\n",
    "user_input = input(\"Please enter a number:\")\n",
    "\n",
    "# INPUT FUNCTION ALWAYS RETURN A STRING ONLY TO CONVERT IT IN NUMBER WE HAVE TO USE INT FUNCTION\n",
    "\n",
    "# Determine the data type of user_input\n",
    "input_type = type(int(user_input))\n",
    "\n",
    "# Print the data type\n",
    "print(input_type)"
   ]
  },
  {
   "cell_type": "code",
   "execution_count": 17,
   "id": "f7bf230c-bad6-492e-84d2-8ecb56066b20",
   "metadata": {},
   "outputs": [
    {
     "data": {
      "text/plain": [
       "int"
      ]
     },
     "execution_count": 17,
     "metadata": {},
     "output_type": "execute_result"
    }
   ],
   "source": [
    "a=5\n",
    "type(5)"
   ]
  },
  {
   "cell_type": "code",
   "execution_count": 29,
   "id": "8c08c17f-5975-4719-a165-d32e421bb63c",
   "metadata": {},
   "outputs": [
    {
     "data": {
      "text/plain": [
       "''"
      ]
     },
     "execution_count": 29,
     "metadata": {},
     "output_type": "execute_result"
    }
   ],
   "source": [
    "input_type()"
   ]
  },
  {
   "cell_type": "code",
   "execution_count": 55,
   "id": "97d165b3-7be5-4b31-9454-c465c3c2189c",
   "metadata": {},
   "outputs": [
    {
     "name": "stdin",
     "output_type": "stream",
     "text": [
      "First Number : 10\n",
      "Second Number : 20\n"
     ]
    },
    {
     "data": {
      "text/plain": [
       "str"
      ]
     },
     "execution_count": 55,
     "metadata": {},
     "output_type": "execute_result"
    }
   ],
   "source": [
    "import numpy as np\n",
    "a = input(\"First Number :\")\n",
    "b = input (\"Second Number :\")\n",
    "c = a + b\n",
    "type(c)"
   ]
  },
  {
   "cell_type": "code",
   "execution_count": 49,
   "id": "dd6a1b3d-a63b-4f34-ae7e-76ff15c9a885",
   "metadata": {},
   "outputs": [
    {
     "name": "stdout",
     "output_type": "stream",
     "text": [
      "1020\n"
     ]
    }
   ],
   "source": [
    "print(c)"
   ]
  },
  {
   "cell_type": "code",
   "execution_count": 57,
   "id": "ac90f9fb-6f81-4b2d-892d-c6fe2b6e9699",
   "metadata": {},
   "outputs": [
    {
     "data": {
      "text/plain": [
       "30"
      ]
     },
     "execution_count": 57,
     "metadata": {},
     "output_type": "execute_result"
    }
   ],
   "source": [
    "a = 10\n",
    "b = 20\n",
    "c = a + b\n",
    "c"
   ]
  },
  {
   "cell_type": "code",
   "execution_count": 65,
   "id": "f0a69c1d-79e8-4eec-9eb2-bfd2c4b8ebb0",
   "metadata": {},
   "outputs": [
    {
     "name": "stdin",
     "output_type": "stream",
     "text": [
      "Enter something:  10>20\n"
     ]
    },
    {
     "name": "stdout",
     "output_type": "stream",
     "text": [
      "The data type of the input is: String\n"
     ]
    }
   ],
   "source": [
    "def myf(user_input):\n",
    "    try:\n",
    "        # Try to convert to integer\n",
    "        int_val = int(user_input)\n",
    "        return \"Integer\"\n",
    "    except ValueError:\n",
    "        try:\n",
    "            # Try to convert to float\n",
    "            float_val = float(user_input)\n",
    "            return \"Float\"\n",
    "        except ValueError:\n",
    "            # If both conversions fail, it's a string\n",
    "            return \"String\"\n",
    "\n",
    "# Get user input\n",
    "user_input = input(\"Enter something: \")\n",
    "data_type = myf(user_input)\n",
    "print(f\"The data type of the input is: {data_type}\")"
   ]
  },
  {
   "cell_type": "code",
   "execution_count": 73,
   "id": "43f4f379-1ca1-48b5-b541-b3b9a230234e",
   "metadata": {},
   "outputs": [
    {
     "name": "stdin",
     "output_type": "stream",
     "text": [
      "Enter : 1.1\n"
     ]
    },
    {
     "name": "stdout",
     "output_type": "stream",
     "text": [
      "Output:Float\n"
     ]
    }
   ],
   "source": [
    "def gettype(u):\n",
    "    try:\n",
    "        value=int(u)\n",
    "        return \"int\"\n",
    "    except ValueError:\n",
    "        try:\n",
    "            value=float(u)\n",
    "            return \"Float\"\n",
    "        except ValueError:\n",
    "            return \"String\"\n",
    "u = input(\"Enter :\")\n",
    "dt = gettype(u)\n",
    "print(f\"Output:{dt}\")\n",
    "        \n",
    "        \n",
    "    "
   ]
  },
  {
   "cell_type": "code",
   "execution_count": null,
   "id": "7dc6fedf-379b-4c70-bfb0-e425f001f935",
   "metadata": {},
   "outputs": [],
   "source": []
  }
 ],
 "metadata": {
  "kernelspec": {
   "display_name": "Python 3 (ipykernel)",
   "language": "python",
   "name": "python3"
  },
  "language_info": {
   "codemirror_mode": {
    "name": "ipython",
    "version": 3
   },
   "file_extension": ".py",
   "mimetype": "text/x-python",
   "name": "python",
   "nbconvert_exporter": "python",
   "pygments_lexer": "ipython3",
   "version": "3.12.7"
  }
 },
 "nbformat": 4,
 "nbformat_minor": 5
}
