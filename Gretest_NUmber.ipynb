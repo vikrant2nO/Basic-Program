{
 "cells": [
  {
   "cell_type": "code",
   "execution_count": 55,
   "id": "bf4e97cc-09a9-41a7-82e5-b00cd36da376",
   "metadata": {},
   "outputs": [
    {
     "name": "stdin",
     "output_type": "stream",
     "text": [
      "Enter First Number: 10\n",
      "Enter Second Number: 20\n"
     ]
    },
    {
     "data": {
      "text/plain": [
       "20"
      ]
     },
     "execution_count": 55,
     "metadata": {},
     "output_type": "execute_result"
    }
   ],
   "source": [
    "a = int(input(\"Enter First Number:\"))\n",
    "b = int(input(\"Enter Second Number:\"))\n",
    "\n",
    "def maximum(a, b):\n",
    "    \n",
    "    if a >= b:\n",
    "        return a\n",
    "    else:\n",
    "        return b\n",
    "maximum(a, b)\n",
    "# Driver code\n",
    "#(maximum(a, b))"
   ]
  },
  {
   "cell_type": "code",
   "execution_count": null,
   "id": "2f05f94b-1887-486e-8a93-aadbc3f5b1df",
   "metadata": {},
   "outputs": [],
   "source": []
  }
 ],
 "metadata": {
  "kernelspec": {
   "display_name": "Python 3 (ipykernel)",
   "language": "python",
   "name": "python3"
  },
  "language_info": {
   "codemirror_mode": {
    "name": "ipython",
    "version": 3
   },
   "file_extension": ".py",
   "mimetype": "text/x-python",
   "name": "python",
   "nbconvert_exporter": "python",
   "pygments_lexer": "ipython3",
   "version": "3.12.7"
  }
 },
 "nbformat": 4,
 "nbformat_minor": 5
}
