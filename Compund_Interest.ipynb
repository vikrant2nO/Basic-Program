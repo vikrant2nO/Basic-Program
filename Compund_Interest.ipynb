{
 "cells": [
  {
   "cell_type": "code",
   "execution_count": 1,
   "id": "ef4e816c-c9c5-49ea-8d2e-782effab0c1f",
   "metadata": {},
   "outputs": [
    {
     "name": "stdout",
     "output_type": "stream",
     "text": [
      "Compound interest is 6288.946267774416\n"
     ]
    }
   ],
   "source": [
    "# Python3 program to find compound\n",
    "# interest for given values.\n",
    " \n",
    " \n",
    "def compound_interest(principal, rate, time):\n",
    " \n",
    "    # Calculates compound interest\n",
    "    Amount = principal * (pow((1 + rate / 100), time))\n",
    "    CI = Amount - principal\n",
    "    print(\"Compound interest is\", CI)\n",
    " \n",
    " \n",
    "# Driver Code\n",
    "compound_interest(10000, 10.25, 5)"
   ]
  },
  {
   "cell_type": "code",
   "execution_count": null,
   "id": "226818b6-84b1-4f5f-a213-76ebb4776a97",
   "metadata": {},
   "outputs": [],
   "source": [
    "# Python3 program to find compound\n",
    "# interest for input taking from user.\n",
    " \n",
    " \n",
    "def compound_interest(principal, rate, time):\n",
    " \n",
    "    # Calculates compound interest\n",
    "    Amount = principal * (pow((1 + rate / 100), time))\n",
    "    CI = Amount - principal\n",
    "    print(\"Compound interest is\", CI)\n",
    " \n",
    " \n",
    "# Driver Code\n",
    "#Taking input from user.\n",
    "principal = int(input(\"Enter the principal amount: \"))\n",
    "rate = int(input(\"Enter rate of interest: \"))\n",
    "time = int(input(\"Enter time in years: \" ))\n",
    "#Function Call\n",
    "compound_interest(principal,rate,time)"
   ]
  },
  {
   "cell_type": "code",
   "execution_count": 5,
   "id": "2902bffa-12fb-4ef6-843a-aa46184db5a0",
   "metadata": {},
   "outputs": [
    {
     "name": "stdout",
     "output_type": "stream",
     "text": [
      "133.0992000000001\n"
     ]
    }
   ],
   "source": [
    "# Python code\n",
    "# To find compound interest \n",
    " \n",
    "# inputs \n",
    "p= 1200   # principal amount \n",
    "t= 2      # time \n",
    "r= 5.4    # rate \n",
    "# calculates the compound interest\n",
    "a=p*(1+(r/100))**t  # formula for calculating amount \n",
    "ci=a-p  # compound interest = amount - principal amount\n",
    "# printing compound interest value\n",
    "print(ci)"
   ]
  },
  {
   "cell_type": "code",
   "execution_count": null,
   "id": "cbef882e-13d3-4a53-bfcb-7e0c2c12c5e2",
   "metadata": {},
   "outputs": [],
   "source": []
  }
 ],
 "metadata": {
  "kernelspec": {
   "display_name": "Python 3 (ipykernel)",
   "language": "python",
   "name": "python3"
  },
  "language_info": {
   "codemirror_mode": {
    "name": "ipython",
    "version": 3
   },
   "file_extension": ".py",
   "mimetype": "text/x-python",
   "name": "python",
   "nbconvert_exporter": "python",
   "pygments_lexer": "ipython3",
   "version": "3.12.7"
  }
 },
 "nbformat": 4,
 "nbformat_minor": 5
}
