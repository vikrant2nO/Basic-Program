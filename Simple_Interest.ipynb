{
 "cells": [
  {
   "cell_type": "code",
   "execution_count": null,
   "id": "540d1fc4-147b-48a0-a576-53f6c9247602",
   "metadata": {},
   "outputs": [],
   "source": [
    "def simple_interest(p,t,r):\n",
    "    print('The principal is', p)\n",
    "    print('The time period is', t)\n",
    "    print('The rate of interest is',r)\n",
    "    \n",
    "    si = (p * t * r)/100\n",
    "    \n",
    "    print('The Simple Interest is', si)\n",
    "    \n",
    "    \n",
    "# Driver code\n",
    "P = int(input(\"Enter the principal amount :\"))\n",
    "T = int(input(\"Enter the time period :\"))\n",
    "R = int(input(\"Enter the rate of interest :\"))\n",
    "simple_interest(P,T,R)"
   ]
  },
  {
   "cell_type": "code",
   "execution_count": null,
   "id": "d01a8c9a-0b26-4d57-9ebd-10f690002e32",
   "metadata": {},
   "outputs": [],
   "source": []
  }
 ],
 "metadata": {
  "kernelspec": {
   "display_name": "Python 3 (ipykernel)",
   "language": "python",
   "name": "python3"
  },
  "language_info": {
   "codemirror_mode": {
    "name": "ipython",
    "version": 3
   },
   "file_extension": ".py",
   "mimetype": "text/x-python",
   "name": "python",
   "nbconvert_exporter": "python",
   "pygments_lexer": "ipython3",
   "version": "3.12.7"
  }
 },
 "nbformat": 4,
 "nbformat_minor": 5
}
