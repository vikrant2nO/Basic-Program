{
 "cells": [
  {
   "cell_type": "code",
   "execution_count": 9,
   "id": "928ea702-b953-4caf-8549-1458c80087f8",
   "metadata": {},
   "outputs": [
    {
     "name": "stdin",
     "output_type": "stream",
     "text": [
      "Enter the radius of the circle:  7\n"
     ]
    },
    {
     "name": "stdout",
     "output_type": "stream",
     "text": [
      "The area of the circle is: 153.94\n"
     ]
    }
   ],
   "source": [
    "import math\n",
    "\n",
    "def circle_area(radius):\n",
    "  \"\"\"Calculates the area of a circle given its radius.\"\"\"\n",
    "  return math.pi * radius**2\n",
    "\n",
    "radius = float(input(\"Enter the radius of the circle: \"))\n",
    "area = circle_area(radius)\n",
    "\n",
    "print(f\"The area of the circle is: {area:.2f}\")"
   ]
  },
  {
   "cell_type": "code",
   "execution_count": null,
   "id": "43d9178b-328b-4272-94b1-fb5be82bdcea",
   "metadata": {},
   "outputs": [],
   "source": []
  }
 ],
 "metadata": {
  "kernelspec": {
   "display_name": "Python 3 (ipykernel)",
   "language": "python",
   "name": "python3"
  },
  "language_info": {
   "codemirror_mode": {
    "name": "ipython",
    "version": 3
   },
   "file_extension": ".py",
   "mimetype": "text/x-python",
   "name": "python",
   "nbconvert_exporter": "python",
   "pygments_lexer": "ipython3",
   "version": "3.12.7"
  }
 },
 "nbformat": 4,
 "nbformat_minor": 5
}
